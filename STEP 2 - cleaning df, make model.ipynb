{
 "cells": [
  {
   "cell_type": "code",
   "execution_count": 1,
   "metadata": {},
   "outputs": [],
   "source": [
    "import pandas as pd\n",
    "import numpy as np\n",
    "from tqdm import tqdm"
   ]
  },
  {
   "attachments": {},
   "cell_type": "markdown",
   "metadata": {},
   "source": [
    "### completing dataframe"
   ]
  },
  {
   "cell_type": "code",
   "execution_count": 2,
   "metadata": {},
   "outputs": [
    {
     "data": {
      "text/html": [
       "<div>\n",
       "<style scoped>\n",
       "    .dataframe tbody tr th:only-of-type {\n",
       "        vertical-align: middle;\n",
       "    }\n",
       "\n",
       "    .dataframe tbody tr th {\n",
       "        vertical-align: top;\n",
       "    }\n",
       "\n",
       "    .dataframe thead th {\n",
       "        text-align: right;\n",
       "    }\n",
       "</style>\n",
       "<table border=\"1\" class=\"dataframe\">\n",
       "  <thead>\n",
       "    <tr style=\"text-align: right;\">\n",
       "      <th></th>\n",
       "      <th>job_url</th>\n",
       "      <th>description</th>\n",
       "      <th>job_title</th>\n",
       "      <th>comp_name</th>\n",
       "      <th>comp_link</th>\n",
       "      <th>city</th>\n",
       "    </tr>\n",
       "  </thead>\n",
       "  <tbody>\n",
       "    <tr>\n",
       "      <th>0</th>\n",
       "      <td>https://www.stepstone.de/stellenangebote--Proc...</td>\n",
       "      <td>Dein Herz schlägt für komplexe Logistikprozess...</td>\n",
       "      <td>Processmanager &amp; Data Analyst Global Warehousi...</td>\n",
       "      <td>Lufthansa Technik Logistik Services GmbH</td>\n",
       "      <td>https://www.stepstone.de/cmp/de/Lufthansa-Tech...</td>\n",
       "      <td>Hamburg</td>\n",
       "    </tr>\n",
       "  </tbody>\n",
       "</table>\n",
       "</div>"
      ],
      "text/plain": [
       "                                             job_url  \\\n",
       "0  https://www.stepstone.de/stellenangebote--Proc...   \n",
       "\n",
       "                                         description  \\\n",
       "0  Dein Herz schlägt für komplexe Logistikprozess...   \n",
       "\n",
       "                                           job_title  \\\n",
       "0  Processmanager & Data Analyst Global Warehousi...   \n",
       "\n",
       "                                  comp_name  \\\n",
       "0  Lufthansa Technik Logistik Services GmbH   \n",
       "\n",
       "                                           comp_link     city  \n",
       "0  https://www.stepstone.de/cmp/de/Lufthansa-Tech...  Hamburg  "
      ]
     },
     "metadata": {},
     "output_type": "display_data"
    }
   ],
   "source": [
    "df1 = pd.read_csv(\"stepstone 1 incomplete.csv\")\n",
    "display(df1.head(1))"
   ]
  },
  {
   "cell_type": "code",
   "execution_count": 3,
   "metadata": {},
   "outputs": [],
   "source": [
    "df21 = pd.read_csv(\"job url 1.csv\")\n",
    "df22 = pd.read_csv(\"job url 2.csv\")\n",
    "df21 = df21.drop(columns = [\"job_source\"])\n",
    "df22 = df22.drop(columns = [\"job_source\"])\n",
    "df = pd.concat([df1, df21, df22], axis = 0)"
   ]
  },
  {
   "cell_type": "code",
   "execution_count": 319,
   "metadata": {},
   "outputs": [
    {
     "data": {
      "text/plain": [
       "(7120, 6)"
      ]
     },
     "metadata": {},
     "output_type": "display_data"
    },
    {
     "data": {
      "text/html": [
       "<div>\n",
       "<style scoped>\n",
       "    .dataframe tbody tr th:only-of-type {\n",
       "        vertical-align: middle;\n",
       "    }\n",
       "\n",
       "    .dataframe tbody tr th {\n",
       "        vertical-align: top;\n",
       "    }\n",
       "\n",
       "    .dataframe thead th {\n",
       "        text-align: right;\n",
       "    }\n",
       "</style>\n",
       "<table border=\"1\" class=\"dataframe\">\n",
       "  <thead>\n",
       "    <tr style=\"text-align: right;\">\n",
       "      <th></th>\n",
       "      <th>job_url</th>\n",
       "      <th>description</th>\n",
       "      <th>job_title</th>\n",
       "      <th>comp_name</th>\n",
       "      <th>comp_link</th>\n",
       "      <th>city</th>\n",
       "    </tr>\n",
       "  </thead>\n",
       "  <tbody>\n",
       "    <tr>\n",
       "      <th>0</th>\n",
       "      <td>https://www.stepstone.de/stellenangebote--Proc...</td>\n",
       "      <td>Dein Herz schlägt für komplexe Logistikprozess...</td>\n",
       "      <td>Processmanager &amp; Data Analyst Global Warehousi...</td>\n",
       "      <td>Lufthansa Technik Logistik Services GmbH</td>\n",
       "      <td>https://www.stepstone.de/cmp/de/Lufthansa-Tech...</td>\n",
       "      <td>Hamburg</td>\n",
       "    </tr>\n",
       "    <tr>\n",
       "      <th>1</th>\n",
       "      <td>https://www.stepstone.de/stellenangebote--Stru...</td>\n",
       "      <td>Converting Data into Market Trust European Dat...</td>\n",
       "      <td>Structured Finance Data Analyst (m/f/d) Native...</td>\n",
       "      <td>European DataWarehouse GmbH Colosseo</td>\n",
       "      <td>https://www.stepstone.de/cmp/de/European-DataW...</td>\n",
       "      <td>Frankfurt am Main</td>\n",
       "    </tr>\n",
       "    <tr>\n",
       "      <th>2</th>\n",
       "      <td>https://www.stepstone.de/stellenangebote--Data...</td>\n",
       "      <td>IQVIA (NYSE: IQV) ist ein führender, globaler ...</td>\n",
       "      <td>Data Analyst – Fokus Onkologie (m/w/d)</td>\n",
       "      <td>IQVIA Commercial GmbH &amp; Co. OHG</td>\n",
       "      <td>https://www.stepstone.de/cmp/de/IQVIA-Commerci...</td>\n",
       "      <td>Frankfurt am Main</td>\n",
       "    </tr>\n",
       "    <tr>\n",
       "      <th>3</th>\n",
       "      <td>https://www.stepstone.de/stellenangebote--Math...</td>\n",
       "      <td>Willkommen in deiner Zukunft! 55.000 Kolleginn...</td>\n",
       "      <td>Mathematiker / Data Analyst (m/w/d) im Bereich...</td>\n",
       "      <td>Zurich Gruppe Deutschland</td>\n",
       "      <td>https://www.stepstone.de/cmp/de/Zurich-Gruppe-...</td>\n",
       "      <td>Köln</td>\n",
       "    </tr>\n",
       "    <tr>\n",
       "      <th>4</th>\n",
       "      <td>https://www.stepstone.de/stellenangebote--Data...</td>\n",
       "      <td>Die Vonovia SE ist Europas führendes privates ...</td>\n",
       "      <td>Data Analyst (m/w/d) im BI-Controlling</td>\n",
       "      <td>Vonovia</td>\n",
       "      <td>https://www.stepstone.de/cmp/de/Vonovia-76597/...</td>\n",
       "      <td>Bochum</td>\n",
       "    </tr>\n",
       "  </tbody>\n",
       "</table>\n",
       "</div>"
      ],
      "text/plain": [
       "                                             job_url  \\\n",
       "0  https://www.stepstone.de/stellenangebote--Proc...   \n",
       "1  https://www.stepstone.de/stellenangebote--Stru...   \n",
       "2  https://www.stepstone.de/stellenangebote--Data...   \n",
       "3  https://www.stepstone.de/stellenangebote--Math...   \n",
       "4  https://www.stepstone.de/stellenangebote--Data...   \n",
       "\n",
       "                                         description  \\\n",
       "0  Dein Herz schlägt für komplexe Logistikprozess...   \n",
       "1  Converting Data into Market Trust European Dat...   \n",
       "2  IQVIA (NYSE: IQV) ist ein führender, globaler ...   \n",
       "3  Willkommen in deiner Zukunft! 55.000 Kolleginn...   \n",
       "4  Die Vonovia SE ist Europas führendes privates ...   \n",
       "\n",
       "                                           job_title  \\\n",
       "0  Processmanager & Data Analyst Global Warehousi...   \n",
       "1  Structured Finance Data Analyst (m/f/d) Native...   \n",
       "2             Data Analyst – Fokus Onkologie (m/w/d)   \n",
       "3  Mathematiker / Data Analyst (m/w/d) im Bereich...   \n",
       "4             Data Analyst (m/w/d) im BI-Controlling   \n",
       "\n",
       "                                  comp_name  \\\n",
       "0  Lufthansa Technik Logistik Services GmbH   \n",
       "1      European DataWarehouse GmbH Colosseo   \n",
       "2           IQVIA Commercial GmbH & Co. OHG   \n",
       "3                 Zurich Gruppe Deutschland   \n",
       "4                                   Vonovia   \n",
       "\n",
       "                                           comp_link               city  \n",
       "0  https://www.stepstone.de/cmp/de/Lufthansa-Tech...            Hamburg  \n",
       "1  https://www.stepstone.de/cmp/de/European-DataW...  Frankfurt am Main  \n",
       "2  https://www.stepstone.de/cmp/de/IQVIA-Commerci...  Frankfurt am Main  \n",
       "3  https://www.stepstone.de/cmp/de/Zurich-Gruppe-...               Köln  \n",
       "4  https://www.stepstone.de/cmp/de/Vonovia-76597/...             Bochum  "
      ]
     },
     "execution_count": 319,
     "metadata": {},
     "output_type": "execute_result"
    }
   ],
   "source": [
    "display(df.shape)\n",
    "df.head()"
   ]
  },
  {
   "attachments": {},
   "cell_type": "markdown",
   "metadata": {},
   "source": [
    "creating keywords to sort the job offer based on the descriptions:\n",
    "how relevant the description is to a certain category (A, B, C, D, E, F).\n",
    "the more keywords found for each category, the more points it will get for that category,\n",
    "the more relevant it is to said category."
   ]
  },
  {
   "cell_type": "code",
   "execution_count": 4,
   "metadata": {},
   "outputs": [],
   "source": [
    "querying = [\"data\",\"analy\",\"sql\",\"big data\",\"query\",\"entry\",\"base\",\"warehouse\"] #A\n",
    "engineering = [\"python\",\"data\",\"analy\",\"machine\",\"learn\",\"etl\",\"oop\",\"pipe\",\"tensor\",\"engineer\",\"nlp\"] #B\n",
    "analysis = [\"python\",\"data\",\"analy\",\"eda\",\"predict\",\"machine\",\"learn\",\"test\",\"explor\",\"statisti\"] #C\n",
    "model_building = [\"python\",\"data\",\"analy\",\"machine\",\"learn\",\"predict\",\"ml\",\"model\",\"train\"] #D\n",
    "scraping = [\"python\",\"data\",\"analy\",\"clean\",\"mining\",\"scrap\",\"csv\",\"json\",\"api\"] #E\n",
    "dashboarding = [\"bi\",\"power\",\"data\",\"analy\",\"dashboard\",\"tableau\",\"report\",\"visuali\"] #F\n",
    "category = [querying, engineering, analysis, model_building, scraping, dashboarding]"
   ]
  },
  {
   "cell_type": "code",
   "execution_count": 7,
   "metadata": {},
   "outputs": [
    {
     "name": "stderr",
     "output_type": "stream",
     "text": [
      "100%|██████████| 7120/7120 [00:20<00:00, 355.96it/s]\n"
     ]
    }
   ],
   "source": [
    "A,B,C,D,E,F = [],[],[],[],[],[]\n",
    "\n",
    "scores = [A,B,C,D,E,F]\n",
    "description = df.description.tolist()\n",
    "for des in tqdm(description):\n",
    "    for score, cat in list(zip(scores, category)):\n",
    "        sc = []\n",
    "        for i in cat:\n",
    "            if i in str(des).lower():\n",
    "                sc.append(1)\n",
    "            # else:\n",
    "            #     sc.append(0)\n",
    "        n = len(sc)/len(cat)*100\n",
    "        score.append(round(n,2))        "
   ]
  },
  {
   "cell_type": "code",
   "execution_count": 8,
   "metadata": {},
   "outputs": [
    {
     "data": {
      "text/html": [
       "<div>\n",
       "<style scoped>\n",
       "    .dataframe tbody tr th:only-of-type {\n",
       "        vertical-align: middle;\n",
       "    }\n",
       "\n",
       "    .dataframe tbody tr th {\n",
       "        vertical-align: top;\n",
       "    }\n",
       "\n",
       "    .dataframe thead th {\n",
       "        text-align: right;\n",
       "    }\n",
       "</style>\n",
       "<table border=\"1\" class=\"dataframe\">\n",
       "  <thead>\n",
       "    <tr style=\"text-align: right;\">\n",
       "      <th></th>\n",
       "      <th>job_url</th>\n",
       "      <th>description</th>\n",
       "      <th>job_title</th>\n",
       "      <th>comp_name</th>\n",
       "      <th>comp_link</th>\n",
       "      <th>city</th>\n",
       "      <th>querying</th>\n",
       "      <th>engineering</th>\n",
       "      <th>analysis</th>\n",
       "      <th>model_building</th>\n",
       "      <th>scraping</th>\n",
       "      <th>dashboarding</th>\n",
       "    </tr>\n",
       "  </thead>\n",
       "  <tbody>\n",
       "    <tr>\n",
       "      <th>0</th>\n",
       "      <td>https://www.stepstone.de/stellenangebote--Proc...</td>\n",
       "      <td>Dein Herz schlägt für komplexe Logistikprozess...</td>\n",
       "      <td>Processmanager &amp; Data Analyst Global Warehousi...</td>\n",
       "      <td>Lufthansa Technik Logistik Services GmbH</td>\n",
       "      <td>https://www.stepstone.de/cmp/de/Lufthansa-Tech...</td>\n",
       "      <td>Hamburg</td>\n",
       "      <td>50.0</td>\n",
       "      <td>18.18</td>\n",
       "      <td>30.0</td>\n",
       "      <td>22.22</td>\n",
       "      <td>33.33</td>\n",
       "      <td>25.0</td>\n",
       "    </tr>\n",
       "  </tbody>\n",
       "</table>\n",
       "</div>"
      ],
      "text/plain": [
       "                                             job_url  \\\n",
       "0  https://www.stepstone.de/stellenangebote--Proc...   \n",
       "\n",
       "                                         description  \\\n",
       "0  Dein Herz schlägt für komplexe Logistikprozess...   \n",
       "\n",
       "                                           job_title  \\\n",
       "0  Processmanager & Data Analyst Global Warehousi...   \n",
       "\n",
       "                                  comp_name  \\\n",
       "0  Lufthansa Technik Logistik Services GmbH   \n",
       "\n",
       "                                           comp_link     city  querying  \\\n",
       "0  https://www.stepstone.de/cmp/de/Lufthansa-Tech...  Hamburg      50.0   \n",
       "\n",
       "   engineering  analysis  model_building  scraping  dashboarding  \n",
       "0        18.18      30.0           22.22     33.33          25.0  "
      ]
     },
     "execution_count": 8,
     "metadata": {},
     "output_type": "execute_result"
    }
   ],
   "source": [
    "df[\"querying\"] = A\n",
    "df[\"engineering\"] = B\n",
    "df[\"analysis\"] = C\n",
    "df[\"model_building\"] = D\n",
    "df[\"scraping\"] = E\n",
    "df[\"dashboarding\"] = F\n",
    "df.head(1)"
   ]
  },
  {
   "attachments": {},
   "cell_type": "markdown",
   "metadata": {},
   "source": [
    "do some quick EDA"
   ]
  },
  {
   "cell_type": "code",
   "execution_count": 9,
   "metadata": {},
   "outputs": [
    {
     "data": {
      "text/html": [
       "<div>\n",
       "<style scoped>\n",
       "    .dataframe tbody tr th:only-of-type {\n",
       "        vertical-align: middle;\n",
       "    }\n",
       "\n",
       "    .dataframe tbody tr th {\n",
       "        vertical-align: top;\n",
       "    }\n",
       "\n",
       "    .dataframe thead th {\n",
       "        text-align: right;\n",
       "    }\n",
       "</style>\n",
       "<table border=\"1\" class=\"dataframe\">\n",
       "  <thead>\n",
       "    <tr style=\"text-align: right;\">\n",
       "      <th></th>\n",
       "      <th>querying</th>\n",
       "      <th>engineering</th>\n",
       "      <th>analysis</th>\n",
       "      <th>model_building</th>\n",
       "      <th>scraping</th>\n",
       "      <th>dashboarding</th>\n",
       "    </tr>\n",
       "  </thead>\n",
       "  <tbody>\n",
       "    <tr>\n",
       "      <th>count</th>\n",
       "      <td>7120.000000</td>\n",
       "      <td>7120.000000</td>\n",
       "      <td>7120.000000</td>\n",
       "      <td>7120.000000</td>\n",
       "      <td>7120.000000</td>\n",
       "      <td>7120.000000</td>\n",
       "    </tr>\n",
       "    <tr>\n",
       "      <th>mean</th>\n",
       "      <td>17.262992</td>\n",
       "      <td>17.121851</td>\n",
       "      <td>21.146067</td>\n",
       "      <td>24.812590</td>\n",
       "      <td>16.345147</td>\n",
       "      <td>29.238062</td>\n",
       "    </tr>\n",
       "    <tr>\n",
       "      <th>std</th>\n",
       "      <td>13.590448</td>\n",
       "      <td>12.817254</td>\n",
       "      <td>13.990586</td>\n",
       "      <td>17.231303</td>\n",
       "      <td>10.784710</td>\n",
       "      <td>16.406220</td>\n",
       "    </tr>\n",
       "    <tr>\n",
       "      <th>min</th>\n",
       "      <td>0.000000</td>\n",
       "      <td>0.000000</td>\n",
       "      <td>0.000000</td>\n",
       "      <td>0.000000</td>\n",
       "      <td>0.000000</td>\n",
       "      <td>0.000000</td>\n",
       "    </tr>\n",
       "    <tr>\n",
       "      <th>25%</th>\n",
       "      <td>12.500000</td>\n",
       "      <td>9.090000</td>\n",
       "      <td>10.000000</td>\n",
       "      <td>11.110000</td>\n",
       "      <td>11.110000</td>\n",
       "      <td>25.000000</td>\n",
       "    </tr>\n",
       "    <tr>\n",
       "      <th>50%</th>\n",
       "      <td>12.500000</td>\n",
       "      <td>18.180000</td>\n",
       "      <td>20.000000</td>\n",
       "      <td>22.220000</td>\n",
       "      <td>11.110000</td>\n",
       "      <td>25.000000</td>\n",
       "    </tr>\n",
       "    <tr>\n",
       "      <th>75%</th>\n",
       "      <td>25.000000</td>\n",
       "      <td>27.270000</td>\n",
       "      <td>30.000000</td>\n",
       "      <td>33.330000</td>\n",
       "      <td>22.220000</td>\n",
       "      <td>37.500000</td>\n",
       "    </tr>\n",
       "    <tr>\n",
       "      <th>max</th>\n",
       "      <td>87.500000</td>\n",
       "      <td>81.820000</td>\n",
       "      <td>80.000000</td>\n",
       "      <td>100.000000</td>\n",
       "      <td>66.670000</td>\n",
       "      <td>100.000000</td>\n",
       "    </tr>\n",
       "  </tbody>\n",
       "</table>\n",
       "</div>"
      ],
      "text/plain": [
       "          querying  engineering     analysis  model_building     scraping  \\\n",
       "count  7120.000000  7120.000000  7120.000000     7120.000000  7120.000000   \n",
       "mean     17.262992    17.121851    21.146067       24.812590    16.345147   \n",
       "std      13.590448    12.817254    13.990586       17.231303    10.784710   \n",
       "min       0.000000     0.000000     0.000000        0.000000     0.000000   \n",
       "25%      12.500000     9.090000    10.000000       11.110000    11.110000   \n",
       "50%      12.500000    18.180000    20.000000       22.220000    11.110000   \n",
       "75%      25.000000    27.270000    30.000000       33.330000    22.220000   \n",
       "max      87.500000    81.820000    80.000000      100.000000    66.670000   \n",
       "\n",
       "       dashboarding  \n",
       "count   7120.000000  \n",
       "mean      29.238062  \n",
       "std       16.406220  \n",
       "min        0.000000  \n",
       "25%       25.000000  \n",
       "50%       25.000000  \n",
       "75%       37.500000  \n",
       "max      100.000000  "
      ]
     },
     "execution_count": 9,
     "metadata": {},
     "output_type": "execute_result"
    }
   ],
   "source": [
    "df.describe()"
   ]
  },
  {
   "cell_type": "code",
   "execution_count": 11,
   "metadata": {},
   "outputs": [
    {
     "data": {
      "text/plain": [
       "job_url             0\n",
       "description       477\n",
       "job_title           1\n",
       "comp_name           1\n",
       "comp_link          54\n",
       "city              381\n",
       "querying            0\n",
       "engineering         0\n",
       "analysis            0\n",
       "model_building      0\n",
       "scraping            0\n",
       "dashboarding        0\n",
       "dtype: int64"
      ]
     },
     "execution_count": 11,
     "metadata": {},
     "output_type": "execute_result"
    }
   ],
   "source": [
    "df.isna().sum()"
   ]
  },
  {
   "cell_type": "code",
   "execution_count": 13,
   "metadata": {},
   "outputs": [
    {
     "data": {
      "text/plain": [
       "job_url           0\n",
       "description       0\n",
       "job_title         0\n",
       "comp_name         0\n",
       "comp_link         0\n",
       "city              0\n",
       "querying          0\n",
       "engineering       0\n",
       "analysis          0\n",
       "model_building    0\n",
       "scraping          0\n",
       "dashboarding      0\n",
       "dtype: int64"
      ]
     },
     "execution_count": 13,
     "metadata": {},
     "output_type": "execute_result"
    }
   ],
   "source": [
    "df = df.dropna(subset=\"description\")\n",
    "df = df.fillna(\"unknown\")\n",
    "df.isna().sum()"
   ]
  },
  {
   "cell_type": "code",
   "execution_count": 14,
   "metadata": {},
   "outputs": [
    {
     "data": {
      "text/plain": [
       "(6643, 12)"
      ]
     },
     "execution_count": 14,
     "metadata": {},
     "output_type": "execute_result"
    }
   ],
   "source": [
    "df.shape"
   ]
  },
  {
   "attachments": {},
   "cell_type": "markdown",
   "metadata": {},
   "source": [
    "cleaning column \"city\", in a way that every job that has multiple cities, the city value will be replaced by \"multiple cities\""
   ]
  },
  {
   "cell_type": "code",
   "execution_count": 15,
   "metadata": {},
   "outputs": [
    {
     "data": {
      "text/plain": [
       "712"
      ]
     },
     "execution_count": 15,
     "metadata": {},
     "output_type": "execute_result"
    }
   ],
   "source": [
    "city = []\n",
    "for i in df[\"city\"]:\n",
    "    if \",\" in i:\n",
    "        i= \"multiple cities\"\n",
    "        city.append(i)\n",
    "    else:\n",
    "        city.append(i)\n",
    "df[\"city\"] = city\n",
    "df[\"city\"].nunique()"
   ]
  },
  {
   "cell_type": "code",
   "execution_count": 16,
   "metadata": {},
   "outputs": [
    {
     "data": {
      "text/plain": [
       "Index(['job_url', 'description', 'job_title', 'comp_name', 'comp_link', 'city',\n",
       "       'querying', 'engineering', 'analysis', 'model_building', 'scraping',\n",
       "       'dashboarding'],\n",
       "      dtype='object')"
      ]
     },
     "execution_count": 16,
     "metadata": {},
     "output_type": "execute_result"
    }
   ],
   "source": [
    "df.columns"
   ]
  },
  {
   "cell_type": "code",
   "execution_count": 17,
   "metadata": {},
   "outputs": [],
   "source": [
    "X = df.drop(columns=[\"job_url\",\"description\",\"comp_link\"])"
   ]
  },
  {
   "cell_type": "code",
   "execution_count": 18,
   "metadata": {},
   "outputs": [],
   "source": [
    "# df.to_csv(\"data clean with url.csv\", index = False)"
   ]
  },
  {
   "cell_type": "code",
   "execution_count": 19,
   "metadata": {},
   "outputs": [
    {
     "data": {
      "text/plain": [
       "Index(['job_title', 'comp_name', 'city', 'querying', 'engineering', 'analysis',\n",
       "       'model_building', 'scraping', 'dashboarding'],\n",
       "      dtype='object')"
      ]
     },
     "execution_count": 19,
     "metadata": {},
     "output_type": "execute_result"
    }
   ],
   "source": [
    "X.columns"
   ]
  },
  {
   "cell_type": "code",
   "execution_count": 20,
   "metadata": {},
   "outputs": [],
   "source": [
    "# X.to_csv(\"data clean.csv\", index = False)"
   ]
  },
  {
   "attachments": {},
   "cell_type": "markdown",
   "metadata": {},
   "source": [
    "# END OF STEP 2"
   ]
  }
 ],
 "metadata": {
  "kernelspec": {
   "display_name": "Python 3",
   "language": "python",
   "name": "python3"
  },
  "language_info": {
   "codemirror_mode": {
    "name": "ipython",
    "version": 3
   },
   "file_extension": ".py",
   "mimetype": "text/x-python",
   "name": "python",
   "nbconvert_exporter": "python",
   "pygments_lexer": "ipython3",
   "version": "3.10.2 (tags/v3.10.2:a58ebcc, Jan 17 2022, 14:12:15) [MSC v.1929 64 bit (AMD64)]"
  },
  "orig_nbformat": 4,
  "vscode": {
   "interpreter": {
    "hash": "1acc24bd1901f9ae8c29efb6830fcc1ca9fe0219dd00f8f1dc1b91856def15a9"
   }
  }
 },
 "nbformat": 4,
 "nbformat_minor": 2
}
