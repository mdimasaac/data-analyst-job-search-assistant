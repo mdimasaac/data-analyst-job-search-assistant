{
 "cells": [
  {
   "cell_type": "code",
   "execution_count": 1,
   "metadata": {},
   "outputs": [],
   "source": [
    "import pandas as pd\n",
    "import numpy as np\n",
    "from tqdm import tqdm"
   ]
  },
  {
   "attachments": {},
   "cell_type": "markdown",
   "metadata": {},
   "source": [
    "### completing dataframe"
   ]
  },
  {
   "cell_type": "code",
   "execution_count": 39,
   "metadata": {},
   "outputs": [
    {
     "data": {
      "text/html": [
       "<div>\n",
       "<style scoped>\n",
       "    .dataframe tbody tr th:only-of-type {\n",
       "        vertical-align: middle;\n",
       "    }\n",
       "\n",
       "    .dataframe tbody tr th {\n",
       "        vertical-align: top;\n",
       "    }\n",
       "\n",
       "    .dataframe thead th {\n",
       "        text-align: right;\n",
       "    }\n",
       "</style>\n",
       "<table border=\"1\" class=\"dataframe\">\n",
       "  <thead>\n",
       "    <tr style=\"text-align: right;\">\n",
       "      <th></th>\n",
       "      <th>job_url</th>\n",
       "      <th>description</th>\n",
       "      <th>job_title</th>\n",
       "      <th>comp_name</th>\n",
       "      <th>comp_link</th>\n",
       "      <th>city</th>\n",
       "    </tr>\n",
       "  </thead>\n",
       "  <tbody>\n",
       "    <tr>\n",
       "      <th>0</th>\n",
       "      <td>https://www.stepstone.de/stellenangebote--Data...</td>\n",
       "      <td>Step out of your comfort zone, excel and redef...</td>\n",
       "      <td>NaN</td>\n",
       "      <td>ZEISS</td>\n",
       "      <td>https://www.stepstone.de/cmp/de/ZEISS-3427/job...</td>\n",
       "      <td>Oberkochen (Baden-Württemberg)</td>\n",
       "    </tr>\n",
       "  </tbody>\n",
       "</table>\n",
       "</div>"
      ],
      "text/plain": [
       "                                             job_url  \\\n",
       "0  https://www.stepstone.de/stellenangebote--Data...   \n",
       "\n",
       "                                         description job_title comp_name  \\\n",
       "0  Step out of your comfort zone, excel and redef...       NaN     ZEISS   \n",
       "\n",
       "                                           comp_link  \\\n",
       "0  https://www.stepstone.de/cmp/de/ZEISS-3427/job...   \n",
       "\n",
       "                             city  \n",
       "0  Oberkochen (Baden-Württemberg)  "
      ]
     },
     "metadata": {},
     "output_type": "display_data"
    }
   ],
   "source": [
    "df = pd.read_csv(\"full.csv\")\n",
    "display(df.head(1))"
   ]
  },
  {
   "cell_type": "code",
   "execution_count": 40,
   "metadata": {},
   "outputs": [],
   "source": [
    "# df21 = pd.read_csv(\"job url 1.csv\")\n",
    "# df22 = pd.read_csv(\"job url 2.csv\")\n",
    "# df21 = df21.drop(columns = [\"job_source\"])\n",
    "# df22 = df22.drop(columns = [\"job_source\"])\n",
    "# df = pd.concat([df1, df21, df22], axis = 0)"
   ]
  },
  {
   "cell_type": "code",
   "execution_count": 41,
   "metadata": {},
   "outputs": [
    {
     "data": {
      "text/plain": [
       "(1843, 6)"
      ]
     },
     "metadata": {},
     "output_type": "display_data"
    },
    {
     "data": {
      "text/html": [
       "<div>\n",
       "<style scoped>\n",
       "    .dataframe tbody tr th:only-of-type {\n",
       "        vertical-align: middle;\n",
       "    }\n",
       "\n",
       "    .dataframe tbody tr th {\n",
       "        vertical-align: top;\n",
       "    }\n",
       "\n",
       "    .dataframe thead th {\n",
       "        text-align: right;\n",
       "    }\n",
       "</style>\n",
       "<table border=\"1\" class=\"dataframe\">\n",
       "  <thead>\n",
       "    <tr style=\"text-align: right;\">\n",
       "      <th></th>\n",
       "      <th>job_url</th>\n",
       "      <th>description</th>\n",
       "      <th>job_title</th>\n",
       "      <th>comp_name</th>\n",
       "      <th>comp_link</th>\n",
       "      <th>city</th>\n",
       "    </tr>\n",
       "  </thead>\n",
       "  <tbody>\n",
       "    <tr>\n",
       "      <th>0</th>\n",
       "      <td>https://www.stepstone.de/stellenangebote--Data...</td>\n",
       "      <td>Step out of your comfort zone, excel and redef...</td>\n",
       "      <td>NaN</td>\n",
       "      <td>ZEISS</td>\n",
       "      <td>https://www.stepstone.de/cmp/de/ZEISS-3427/job...</td>\n",
       "      <td>Oberkochen (Baden-Württemberg)</td>\n",
       "    </tr>\n",
       "    <tr>\n",
       "      <th>1</th>\n",
       "      <td>https://www.stepstone.de/stellenangebote--Date...</td>\n",
       "      <td>Die parcIT ist einer der führenden Anbieter vo...</td>\n",
       "      <td>Datenanalyst / Data Analyst Risikomanagement (...</td>\n",
       "      <td>parcIT GmbH</td>\n",
       "      <td>https://www.stepstone.de/cmp/de/parcIT-GmbH-78...</td>\n",
       "      <td>Köln</td>\n",
       "    </tr>\n",
       "    <tr>\n",
       "      <th>2</th>\n",
       "      <td>https://www.stepstone.de/stellenangebote--Data...</td>\n",
       "      <td>Die Vonovia SE ist Europas führendes privates ...</td>\n",
       "      <td>Data Analyst (m/w/d) im BI-Controlling</td>\n",
       "      <td>Vonovia</td>\n",
       "      <td>https://www.stepstone.de/cmp/de/Vonovia-76597/...</td>\n",
       "      <td>Bochum</td>\n",
       "    </tr>\n",
       "    <tr>\n",
       "      <th>3</th>\n",
       "      <td>https://www.stepstone.de/stellenangebote--Web-...</td>\n",
       "      <td>Die SCHUFA war schon Fintech, bevor es Fintech...</td>\n",
       "      <td>Web &amp; Data Analyst (w/m/d) in Voll- oder Teilz...</td>\n",
       "      <td>SCHUFA Holding AG</td>\n",
       "      <td>https://www.stepstone.de/cmp/de/SCHUFA-Holding...</td>\n",
       "      <td>Wiesbaden</td>\n",
       "    </tr>\n",
       "    <tr>\n",
       "      <th>4</th>\n",
       "      <td>https://www.stepstone.de/stellenangebote--Data...</td>\n",
       "      <td>Analyse, Aufbereitung und Bewertung verkehrsp...</td>\n",
       "      <td>Data Analyst*in - Verkehrsforschung</td>\n",
       "      <td>DSW21 Dortmunder Stadtwerke AG</td>\n",
       "      <td>https://www.stepstone.de/cmp/de/DSW21-Dortmund...</td>\n",
       "      <td>Dortmund</td>\n",
       "    </tr>\n",
       "  </tbody>\n",
       "</table>\n",
       "</div>"
      ],
      "text/plain": [
       "                                             job_url  \\\n",
       "0  https://www.stepstone.de/stellenangebote--Data...   \n",
       "1  https://www.stepstone.de/stellenangebote--Date...   \n",
       "2  https://www.stepstone.de/stellenangebote--Data...   \n",
       "3  https://www.stepstone.de/stellenangebote--Web-...   \n",
       "4  https://www.stepstone.de/stellenangebote--Data...   \n",
       "\n",
       "                                         description  \\\n",
       "0  Step out of your comfort zone, excel and redef...   \n",
       "1  Die parcIT ist einer der führenden Anbieter vo...   \n",
       "2  Die Vonovia SE ist Europas führendes privates ...   \n",
       "3  Die SCHUFA war schon Fintech, bevor es Fintech...   \n",
       "4   Analyse, Aufbereitung und Bewertung verkehrsp...   \n",
       "\n",
       "                                           job_title  \\\n",
       "0                                                NaN   \n",
       "1  Datenanalyst / Data Analyst Risikomanagement (...   \n",
       "2             Data Analyst (m/w/d) im BI-Controlling   \n",
       "3  Web & Data Analyst (w/m/d) in Voll- oder Teilz...   \n",
       "4                Data Analyst*in - Verkehrsforschung   \n",
       "\n",
       "                        comp_name  \\\n",
       "0                           ZEISS   \n",
       "1                     parcIT GmbH   \n",
       "2                         Vonovia   \n",
       "3               SCHUFA Holding AG   \n",
       "4  DSW21 Dortmunder Stadtwerke AG   \n",
       "\n",
       "                                           comp_link  \\\n",
       "0  https://www.stepstone.de/cmp/de/ZEISS-3427/job...   \n",
       "1  https://www.stepstone.de/cmp/de/parcIT-GmbH-78...   \n",
       "2  https://www.stepstone.de/cmp/de/Vonovia-76597/...   \n",
       "3  https://www.stepstone.de/cmp/de/SCHUFA-Holding...   \n",
       "4  https://www.stepstone.de/cmp/de/DSW21-Dortmund...   \n",
       "\n",
       "                             city  \n",
       "0  Oberkochen (Baden-Württemberg)  \n",
       "1                            Köln  \n",
       "2                          Bochum  \n",
       "3                       Wiesbaden  \n",
       "4                        Dortmund  "
      ]
     },
     "execution_count": 41,
     "metadata": {},
     "output_type": "execute_result"
    }
   ],
   "source": [
    "display(df.shape)\n",
    "df.head()"
   ]
  },
  {
   "cell_type": "code",
   "execution_count": 42,
   "metadata": {},
   "outputs": [
    {
     "data": {
      "text/plain": [
       "job_url          0\n",
       "description      0\n",
       "job_title      227\n",
       "comp_name        0\n",
       "comp_link       13\n",
       "city           937\n",
       "dtype: int64"
      ]
     },
     "execution_count": 42,
     "metadata": {},
     "output_type": "execute_result"
    }
   ],
   "source": [
    "df.isna().sum()"
   ]
  },
  {
   "cell_type": "code",
   "execution_count": 43,
   "metadata": {},
   "outputs": [
    {
     "data": {
      "text/plain": [
       "(1843, 6)"
      ]
     },
     "metadata": {},
     "output_type": "display_data"
    },
    {
     "data": {
      "text/plain": [
       "(1830, 6)"
      ]
     },
     "metadata": {},
     "output_type": "display_data"
    }
   ],
   "source": [
    "display(df.shape)\n",
    "df = df.dropna(subset = [\"comp_link\"])\n",
    "display(df.shape)"
   ]
  },
  {
   "attachments": {},
   "cell_type": "markdown",
   "metadata": {},
   "source": [
    "creating keywords to sort the job offer based on the descriptions:\n",
    "how relevant the description is to a certain category (A, B, C, D, E, F).\n",
    "the more keywords found for each category, the more points it will get for that category,\n",
    "the more relevant it is to said category."
   ]
  },
  {
   "cell_type": "code",
   "execution_count": 44,
   "metadata": {},
   "outputs": [],
   "source": [
    "querying = [\"data\",\"analy\",\"analy\",\"sql\",\"sql\",\"sql\",\"big data\",\"query\",\"entry\",\"base\",\"warehouse\"] #A\n",
    "engineering = [\"python\",\"python\",\"data\",\"analy\",\"analy\",\"machine\",\"learn\",\"etl\",\"oop\",\"pipe\",\"pipe\",\"tensor\",\"engineer\",\"nlp\"] #B\n",
    "analysis = [\"python\",\"python\",\"python\",\"data\",\"analy\",\"analy\",\"eda\",\"predict\",\"machine\",\"learn\",\"test\",\"explor\",\"statisti\"] #C\n",
    "model_building = [\"python\",\"python\",\"data\",\"analy\",\"analy\",\"machine\",\"machine\",\"learn\",\"predict\",\"ml\",\"model\",\"model\",\"train\"] #D\n",
    "scraping = [\"python\",\"python\",\"python\",\"data\",\"analy\",\"analy\",\"clean\",\"mining\",\"scrap\",\"csv\",\"json\",\"api\"] #E\n",
    "dashboarding = [\"bi\",\"bi\",\"power\",\"data\",\"analy\",\"analy\",\"dashboard\",\"tableau\",\"tableau\",\"tableau\",\"report\",\"visuali\"] #F\n",
    "category = [querying, engineering, analysis, model_building, scraping, dashboarding]"
   ]
  },
  {
   "cell_type": "code",
   "execution_count": 45,
   "metadata": {},
   "outputs": [
    {
     "name": "stderr",
     "output_type": "stream",
     "text": [
      "100%|██████████| 1830/1830 [00:01<00:00, 922.81it/s] \n"
     ]
    }
   ],
   "source": [
    "A,B,C,D,E,F = [],[],[],[],[],[]\n",
    "\n",
    "scores = [A,B,C,D,E,F]\n",
    "description = df.description.tolist()\n",
    "for des in tqdm(description):\n",
    "    for score, cat in list(zip(scores, category)):\n",
    "        sc = []\n",
    "        for i in cat:\n",
    "            if i in str(des).lower():\n",
    "                sc.append(1)\n",
    "            # else:\n",
    "            #     sc.append(0)\n",
    "        n = len(sc)/len(cat)*100\n",
    "        score.append(round(n,2))        "
   ]
  },
  {
   "cell_type": "code",
   "execution_count": 46,
   "metadata": {},
   "outputs": [
    {
     "data": {
      "text/html": [
       "<div>\n",
       "<style scoped>\n",
       "    .dataframe tbody tr th:only-of-type {\n",
       "        vertical-align: middle;\n",
       "    }\n",
       "\n",
       "    .dataframe tbody tr th {\n",
       "        vertical-align: top;\n",
       "    }\n",
       "\n",
       "    .dataframe thead th {\n",
       "        text-align: right;\n",
       "    }\n",
       "</style>\n",
       "<table border=\"1\" class=\"dataframe\">\n",
       "  <thead>\n",
       "    <tr style=\"text-align: right;\">\n",
       "      <th></th>\n",
       "      <th>job_url</th>\n",
       "      <th>description</th>\n",
       "      <th>job_title</th>\n",
       "      <th>comp_name</th>\n",
       "      <th>comp_link</th>\n",
       "      <th>city</th>\n",
       "      <th>querying</th>\n",
       "      <th>engineering</th>\n",
       "      <th>analysis</th>\n",
       "      <th>model_building</th>\n",
       "      <th>scraping</th>\n",
       "      <th>dashboarding</th>\n",
       "    </tr>\n",
       "  </thead>\n",
       "  <tbody>\n",
       "    <tr>\n",
       "      <th>0</th>\n",
       "      <td>https://www.stepstone.de/stellenangebote--Data...</td>\n",
       "      <td>Step out of your comfort zone, excel and redef...</td>\n",
       "      <td>NaN</td>\n",
       "      <td>ZEISS</td>\n",
       "      <td>https://www.stepstone.de/cmp/de/ZEISS-3427/job...</td>\n",
       "      <td>Oberkochen (Baden-Württemberg)</td>\n",
       "      <td>27.27</td>\n",
       "      <td>28.57</td>\n",
       "      <td>23.08</td>\n",
       "      <td>23.08</td>\n",
       "      <td>33.33</td>\n",
       "      <td>58.33</td>\n",
       "    </tr>\n",
       "  </tbody>\n",
       "</table>\n",
       "</div>"
      ],
      "text/plain": [
       "                                             job_url  \\\n",
       "0  https://www.stepstone.de/stellenangebote--Data...   \n",
       "\n",
       "                                         description job_title comp_name  \\\n",
       "0  Step out of your comfort zone, excel and redef...       NaN     ZEISS   \n",
       "\n",
       "                                           comp_link  \\\n",
       "0  https://www.stepstone.de/cmp/de/ZEISS-3427/job...   \n",
       "\n",
       "                             city  querying  engineering  analysis  \\\n",
       "0  Oberkochen (Baden-Württemberg)     27.27        28.57     23.08   \n",
       "\n",
       "   model_building  scraping  dashboarding  \n",
       "0           23.08     33.33         58.33  "
      ]
     },
     "execution_count": 46,
     "metadata": {},
     "output_type": "execute_result"
    }
   ],
   "source": [
    "df[\"querying\"] = A\n",
    "df[\"engineering\"] = B\n",
    "df[\"analysis\"] = C\n",
    "df[\"model_building\"] = D\n",
    "df[\"scraping\"] = E\n",
    "df[\"dashboarding\"] = F\n",
    "df.head(1)"
   ]
  },
  {
   "attachments": {},
   "cell_type": "markdown",
   "metadata": {},
   "source": [
    "do some quick EDA"
   ]
  },
  {
   "cell_type": "code",
   "execution_count": 47,
   "metadata": {},
   "outputs": [
    {
     "data": {
      "text/html": [
       "<div>\n",
       "<style scoped>\n",
       "    .dataframe tbody tr th:only-of-type {\n",
       "        vertical-align: middle;\n",
       "    }\n",
       "\n",
       "    .dataframe tbody tr th {\n",
       "        vertical-align: top;\n",
       "    }\n",
       "\n",
       "    .dataframe thead th {\n",
       "        text-align: right;\n",
       "    }\n",
       "</style>\n",
       "<table border=\"1\" class=\"dataframe\">\n",
       "  <thead>\n",
       "    <tr style=\"text-align: right;\">\n",
       "      <th></th>\n",
       "      <th>querying</th>\n",
       "      <th>engineering</th>\n",
       "      <th>analysis</th>\n",
       "      <th>model_building</th>\n",
       "      <th>scraping</th>\n",
       "      <th>dashboarding</th>\n",
       "    </tr>\n",
       "  </thead>\n",
       "  <tbody>\n",
       "    <tr>\n",
       "      <th>count</th>\n",
       "      <td>1830.000000</td>\n",
       "      <td>1830.000000</td>\n",
       "      <td>1830.000000</td>\n",
       "      <td>1830.000000</td>\n",
       "      <td>1830.000000</td>\n",
       "      <td>1830.000000</td>\n",
       "    </tr>\n",
       "    <tr>\n",
       "      <th>mean</th>\n",
       "      <td>27.793536</td>\n",
       "      <td>22.135683</td>\n",
       "      <td>26.616344</td>\n",
       "      <td>28.478158</td>\n",
       "      <td>23.365322</td>\n",
       "      <td>40.346689</td>\n",
       "    </tr>\n",
       "    <tr>\n",
       "      <th>std</th>\n",
       "      <td>20.857718</td>\n",
       "      <td>16.908131</td>\n",
       "      <td>20.318535</td>\n",
       "      <td>21.599798</td>\n",
       "      <td>17.054316</td>\n",
       "      <td>23.158819</td>\n",
       "    </tr>\n",
       "    <tr>\n",
       "      <th>min</th>\n",
       "      <td>0.000000</td>\n",
       "      <td>0.000000</td>\n",
       "      <td>0.000000</td>\n",
       "      <td>0.000000</td>\n",
       "      <td>0.000000</td>\n",
       "      <td>0.000000</td>\n",
       "    </tr>\n",
       "    <tr>\n",
       "      <th>25%</th>\n",
       "      <td>11.362500</td>\n",
       "      <td>14.290000</td>\n",
       "      <td>15.380000</td>\n",
       "      <td>15.380000</td>\n",
       "      <td>10.415000</td>\n",
       "      <td>25.000000</td>\n",
       "    </tr>\n",
       "    <tr>\n",
       "      <th>50%</th>\n",
       "      <td>27.270000</td>\n",
       "      <td>21.430000</td>\n",
       "      <td>23.080000</td>\n",
       "      <td>23.080000</td>\n",
       "      <td>25.000000</td>\n",
       "      <td>41.670000</td>\n",
       "    </tr>\n",
       "    <tr>\n",
       "      <th>75%</th>\n",
       "      <td>45.450000</td>\n",
       "      <td>28.570000</td>\n",
       "      <td>38.460000</td>\n",
       "      <td>38.460000</td>\n",
       "      <td>33.330000</td>\n",
       "      <td>50.000000</td>\n",
       "    </tr>\n",
       "    <tr>\n",
       "      <th>max</th>\n",
       "      <td>81.820000</td>\n",
       "      <td>85.710000</td>\n",
       "      <td>92.310000</td>\n",
       "      <td>100.000000</td>\n",
       "      <td>75.000000</td>\n",
       "      <td>100.000000</td>\n",
       "    </tr>\n",
       "  </tbody>\n",
       "</table>\n",
       "</div>"
      ],
      "text/plain": [
       "          querying  engineering     analysis  model_building     scraping  \\\n",
       "count  1830.000000  1830.000000  1830.000000     1830.000000  1830.000000   \n",
       "mean     27.793536    22.135683    26.616344       28.478158    23.365322   \n",
       "std      20.857718    16.908131    20.318535       21.599798    17.054316   \n",
       "min       0.000000     0.000000     0.000000        0.000000     0.000000   \n",
       "25%      11.362500    14.290000    15.380000       15.380000    10.415000   \n",
       "50%      27.270000    21.430000    23.080000       23.080000    25.000000   \n",
       "75%      45.450000    28.570000    38.460000       38.460000    33.330000   \n",
       "max      81.820000    85.710000    92.310000      100.000000    75.000000   \n",
       "\n",
       "       dashboarding  \n",
       "count   1830.000000  \n",
       "mean      40.346689  \n",
       "std       23.158819  \n",
       "min        0.000000  \n",
       "25%       25.000000  \n",
       "50%       41.670000  \n",
       "75%       50.000000  \n",
       "max      100.000000  "
      ]
     },
     "execution_count": 47,
     "metadata": {},
     "output_type": "execute_result"
    }
   ],
   "source": [
    "df.describe()"
   ]
  },
  {
   "cell_type": "code",
   "execution_count": 48,
   "metadata": {},
   "outputs": [
    {
     "data": {
      "text/plain": [
       "job_url             0\n",
       "description         0\n",
       "job_title         227\n",
       "comp_name           0\n",
       "comp_link           0\n",
       "city              924\n",
       "querying            0\n",
       "engineering         0\n",
       "analysis            0\n",
       "model_building      0\n",
       "scraping            0\n",
       "dashboarding        0\n",
       "dtype: int64"
      ]
     },
     "execution_count": 48,
     "metadata": {},
     "output_type": "execute_result"
    }
   ],
   "source": [
    "df.isna().sum()"
   ]
  },
  {
   "cell_type": "code",
   "execution_count": 49,
   "metadata": {},
   "outputs": [
    {
     "data": {
      "text/plain": [
       "job_url           0\n",
       "description       0\n",
       "job_title         0\n",
       "comp_name         0\n",
       "comp_link         0\n",
       "city              0\n",
       "querying          0\n",
       "engineering       0\n",
       "analysis          0\n",
       "model_building    0\n",
       "scraping          0\n",
       "dashboarding      0\n",
       "dtype: int64"
      ]
     },
     "execution_count": 49,
     "metadata": {},
     "output_type": "execute_result"
    }
   ],
   "source": [
    "# df = df.dropna(subset=\"description\")\n",
    "df = df.fillna(\"unknown\")\n",
    "df.isna().sum()"
   ]
  },
  {
   "cell_type": "code",
   "execution_count": 50,
   "metadata": {},
   "outputs": [
    {
     "data": {
      "text/plain": [
       "(1830, 12)"
      ]
     },
     "execution_count": 50,
     "metadata": {},
     "output_type": "execute_result"
    }
   ],
   "source": [
    "df.shape"
   ]
  },
  {
   "attachments": {},
   "cell_type": "markdown",
   "metadata": {},
   "source": [
    "cleaning column \"city\", in a way that every job that has multiple cities, the city value will be replaced by \"multiple cities\""
   ]
  },
  {
   "cell_type": "code",
   "execution_count": 51,
   "metadata": {},
   "outputs": [
    {
     "data": {
      "text/plain": [
       "223"
      ]
     },
     "execution_count": 51,
     "metadata": {},
     "output_type": "execute_result"
    }
   ],
   "source": [
    "city = []\n",
    "for i in df[\"city\"]:\n",
    "    if \",\" in i:\n",
    "        i= \"multiple cities\"\n",
    "        city.append(i)\n",
    "    else:\n",
    "        city.append(i)\n",
    "df[\"city\"] = city\n",
    "df[\"city\"].nunique()"
   ]
  },
  {
   "cell_type": "code",
   "execution_count": 52,
   "metadata": {},
   "outputs": [
    {
     "data": {
      "text/plain": [
       "Index(['job_url', 'description', 'job_title', 'comp_name', 'comp_link', 'city',\n",
       "       'querying', 'engineering', 'analysis', 'model_building', 'scraping',\n",
       "       'dashboarding'],\n",
       "      dtype='object')"
      ]
     },
     "execution_count": 52,
     "metadata": {},
     "output_type": "execute_result"
    }
   ],
   "source": [
    "df.columns"
   ]
  },
  {
   "cell_type": "code",
   "execution_count": 53,
   "metadata": {},
   "outputs": [],
   "source": [
    "X = df.drop(columns=[\"job_url\",\"description\",\"comp_link\"])"
   ]
  },
  {
   "cell_type": "code",
   "execution_count": 54,
   "metadata": {},
   "outputs": [],
   "source": [
    "df.to_csv(\"data clean with url.csv\", index = False)"
   ]
  },
  {
   "cell_type": "code",
   "execution_count": 55,
   "metadata": {},
   "outputs": [
    {
     "data": {
      "text/plain": [
       "Index(['job_title', 'comp_name', 'city', 'querying', 'engineering', 'analysis',\n",
       "       'model_building', 'scraping', 'dashboarding'],\n",
       "      dtype='object')"
      ]
     },
     "execution_count": 55,
     "metadata": {},
     "output_type": "execute_result"
    }
   ],
   "source": [
    "X.columns"
   ]
  },
  {
   "cell_type": "code",
   "execution_count": 56,
   "metadata": {},
   "outputs": [],
   "source": [
    "X.to_csv(\"data clean.csv\", index = False)"
   ]
  },
  {
   "attachments": {},
   "cell_type": "markdown",
   "metadata": {},
   "source": [
    "# END OF STEP 2"
   ]
  }
 ],
 "metadata": {
  "kernelspec": {
   "display_name": "Python 3",
   "language": "python",
   "name": "python3"
  },
  "language_info": {
   "codemirror_mode": {
    "name": "ipython",
    "version": 3
   },
   "file_extension": ".py",
   "mimetype": "text/x-python",
   "name": "python",
   "nbconvert_exporter": "python",
   "pygments_lexer": "ipython3",
   "version": "3.10.2"
  },
  "orig_nbformat": 4,
  "vscode": {
   "interpreter": {
    "hash": "1acc24bd1901f9ae8c29efb6830fcc1ca9fe0219dd00f8f1dc1b91856def15a9"
   }
  }
 },
 "nbformat": 4,
 "nbformat_minor": 2
}
